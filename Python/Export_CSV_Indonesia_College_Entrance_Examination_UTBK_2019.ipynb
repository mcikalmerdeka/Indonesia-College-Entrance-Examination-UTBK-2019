{
  "cells": [
    {
      "cell_type": "code",
      "execution_count": 1,
      "metadata": {
        "colab": {
          "base_uri": "https://localhost:8080/"
        },
        "id": "ugU6ORUUypn8",
        "outputId": "0a02f3bf-a95c-4594-bffa-3b42ff5880d0"
      },
      "outputs": [
        {
          "output_type": "stream",
          "name": "stdout",
          "text": [
            "Mounted at /content/drive\n"
          ]
        }
      ],
      "source": [
        "from google.colab import drive\n",
        "drive.mount('/content/drive')"
      ]
    },
    {
      "cell_type": "code",
      "execution_count": 2,
      "metadata": {
        "colab": {
          "base_uri": "https://localhost:8080/"
        },
        "id": "niArHQ4uzMrS",
        "outputId": "279a527c-b57c-4ff3-adfc-c755f61da82e"
      },
      "outputs": [
        {
          "output_type": "stream",
          "name": "stdout",
          "text": [
            "numpy version :  1.23.5\n",
            "pandas version :  1.5.3\n",
            "seaborn version :  0.12.2\n"
          ]
        }
      ],
      "source": [
        "import warnings\n",
        "warnings.filterwarnings('ignore')\n",
        "\n",
        "import numpy as np\n",
        "import pandas as pd\n",
        "import seaborn as sns\n",
        "import matplotlib.pyplot as plt\n",
        "%matplotlib inline\n",
        "\n",
        "\n",
        "print('numpy version : ',np.__version__)\n",
        "print('pandas version : ',pd.__version__)\n",
        "print('seaborn version : ',sns.__version__)"
      ]
    },
    {
      "cell_type": "markdown",
      "metadata": {
        "id": "qZj8QVvAzUg8"
      },
      "source": [
        "## Load Data"
      ]
    },
    {
      "cell_type": "code",
      "execution_count": 11,
      "metadata": {
        "id": "0J_ZdaUVzMpp"
      },
      "outputs": [],
      "source": [
        "df_majors = pd.read_csv('/content/drive/MyDrive/Latihan Sendiri (Projects)/Indonesia College Entrance Examination - UTBK 2019/majors.csv')\n",
        "df_universities = pd.read_csv('/content/drive/MyDrive/Latihan Sendiri (Projects)/Indonesia College Entrance Examination - UTBK 2019/universities.csv')\n",
        "df_science = pd.read_csv('/content/drive/MyDrive/Latihan Sendiri (Projects)/Indonesia College Entrance Examination - UTBK 2019/score_science.csv')\n",
        "df_humanities = pd.read_csv('/content/drive/MyDrive/Latihan Sendiri (Projects)/Indonesia College Entrance Examination - UTBK 2019/score_humanities.csv')"
      ]
    },
    {
      "cell_type": "markdown",
      "metadata": {
        "id": "QXZhYFVAzXDw"
      },
      "source": [
        "# Descriptive Statistics"
      ]
    },
    {
      "cell_type": "code",
      "source": [
        "df_majors.drop(columns='Unnamed: 0', inplace=True)\n",
        "df_universities.drop(columns='Unnamed: 0', inplace=True)\n",
        "df_science.drop(columns='Unnamed: 0', inplace=True)\n",
        "df_humanities.drop(columns='Unnamed: 0', inplace=True)"
      ],
      "metadata": {
        "id": "gDHm0TZI-6De"
      },
      "execution_count": 12,
      "outputs": []
    },
    {
      "cell_type": "code",
      "source": [
        "df_science.drop(df_science[df_science['id_first_major'] == 1496].index, inplace=True)\n",
        "df_humanities.drop(df_humanities[df_humanities['id_first_major'] == 2333].index, inplace=True)\n",
        "df_humanities.drop(df_humanities[df_humanities['id_first_major'] == 253].index, inplace=True)\n",
        "df_humanities.drop(df_humanities[df_humanities['id_first_major'] == 800].index, inplace=True)\n",
        "df_humanities.drop(df_humanities[df_humanities['id_first_major'] == 766].index, inplace=True)"
      ],
      "metadata": {
        "id": "ociG26zvTA_0"
      },
      "execution_count": 13,
      "outputs": []
    },
    {
      "cell_type": "code",
      "source": [
        "df_majors.to_csv('majors_sql.csv', index=False)\n",
        "df_universities.to_csv('universities_sql.csv', index=False)\n",
        "df_science.to_csv('science_sql.csv', index=False)\n",
        "df_humanities.to_csv('humanities_sql.csv', index=False)"
      ],
      "metadata": {
        "id": "E-Mj1xcUJQpX"
      },
      "execution_count": 14,
      "outputs": []
    },
    {
      "cell_type": "code",
      "source": [],
      "metadata": {
        "id": "GH_VIsLOV7i3"
      },
      "execution_count": 16,
      "outputs": []
    },
    {
      "cell_type": "code",
      "source": [],
      "metadata": {
        "id": "py9VuFApWTDU"
      },
      "execution_count": null,
      "outputs": []
    }
  ],
  "metadata": {
    "colab": {
      "provenance": []
    },
    "kernelspec": {
      "display_name": "Python 3",
      "name": "python3"
    },
    "language_info": {
      "name": "python"
    }
  },
  "nbformat": 4,
  "nbformat_minor": 0
}